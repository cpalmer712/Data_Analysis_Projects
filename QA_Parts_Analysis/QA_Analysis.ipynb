{
 "cells": [
  {
   "cell_type": "code",
   "execution_count": 79,
   "metadata": {},
   "outputs": [],
   "source": [
    "#IMPORT LIBRARIES\n",
    "import pandas as pd\n",
    "import seaborn as sns\n",
    "import matplotlib.pyplot as plt\n",
    "import numpy as np\n",
    "from matplotlib.cbook import boxplot_stats\n",
    "\n",
    "#source\n",
    "#https://www.kaggle.com/code/gabrielsantello/parts-manufacturing-quality-analysis"
   ]
  },
  {
   "cell_type": "code",
   "execution_count": 80,
   "metadata": {},
   "outputs": [
    {
     "data": {
      "text/html": [
       "<div>\n",
       "<style scoped>\n",
       "    .dataframe tbody tr th:only-of-type {\n",
       "        vertical-align: middle;\n",
       "    }\n",
       "\n",
       "    .dataframe tbody tr th {\n",
       "        vertical-align: top;\n",
       "    }\n",
       "\n",
       "    .dataframe thead th {\n",
       "        text-align: right;\n",
       "    }\n",
       "</style>\n",
       "<table border=\"1\" class=\"dataframe\">\n",
       "  <thead>\n",
       "    <tr style=\"text-align: right;\">\n",
       "      <th></th>\n",
       "      <th>Length</th>\n",
       "      <th>Width</th>\n",
       "      <th>Height</th>\n",
       "      <th>Operator</th>\n",
       "    </tr>\n",
       "  </thead>\n",
       "  <tbody>\n",
       "    <tr>\n",
       "      <th>0</th>\n",
       "      <td>102.67</td>\n",
       "      <td>49.53</td>\n",
       "      <td>19.69</td>\n",
       "      <td>Op-1</td>\n",
       "    </tr>\n",
       "    <tr>\n",
       "      <th>1</th>\n",
       "      <td>102.50</td>\n",
       "      <td>51.42</td>\n",
       "      <td>19.63</td>\n",
       "      <td>Op-1</td>\n",
       "    </tr>\n",
       "    <tr>\n",
       "      <th>2</th>\n",
       "      <td>95.37</td>\n",
       "      <td>52.25</td>\n",
       "      <td>21.51</td>\n",
       "      <td>Op-1</td>\n",
       "    </tr>\n",
       "    <tr>\n",
       "      <th>3</th>\n",
       "      <td>94.77</td>\n",
       "      <td>49.24</td>\n",
       "      <td>18.60</td>\n",
       "      <td>Op-1</td>\n",
       "    </tr>\n",
       "    <tr>\n",
       "      <th>4</th>\n",
       "      <td>104.26</td>\n",
       "      <td>47.90</td>\n",
       "      <td>19.46</td>\n",
       "      <td>Op-1</td>\n",
       "    </tr>\n",
       "    <tr>\n",
       "      <th>...</th>\n",
       "      <td>...</td>\n",
       "      <td>...</td>\n",
       "      <td>...</td>\n",
       "      <td>...</td>\n",
       "    </tr>\n",
       "    <tr>\n",
       "      <th>495</th>\n",
       "      <td>101.24</td>\n",
       "      <td>49.03</td>\n",
       "      <td>20.96</td>\n",
       "      <td>Op-20</td>\n",
       "    </tr>\n",
       "    <tr>\n",
       "      <th>496</th>\n",
       "      <td>98.37</td>\n",
       "      <td>52.12</td>\n",
       "      <td>19.68</td>\n",
       "      <td>Op-20</td>\n",
       "    </tr>\n",
       "    <tr>\n",
       "      <th>497</th>\n",
       "      <td>96.49</td>\n",
       "      <td>48.78</td>\n",
       "      <td>19.19</td>\n",
       "      <td>Op-20</td>\n",
       "    </tr>\n",
       "    <tr>\n",
       "      <th>498</th>\n",
       "      <td>94.16</td>\n",
       "      <td>48.39</td>\n",
       "      <td>21.60</td>\n",
       "      <td>Op-20</td>\n",
       "    </tr>\n",
       "    <tr>\n",
       "      <th>499</th>\n",
       "      <td>102.35</td>\n",
       "      <td>51.24</td>\n",
       "      <td>21.47</td>\n",
       "      <td>Op-20</td>\n",
       "    </tr>\n",
       "  </tbody>\n",
       "</table>\n",
       "<p>500 rows × 4 columns</p>\n",
       "</div>"
      ],
      "text/plain": [
       "     Length  Width  Height Operator\n",
       "0    102.67  49.53   19.69     Op-1\n",
       "1    102.50  51.42   19.63     Op-1\n",
       "2     95.37  52.25   21.51     Op-1\n",
       "3     94.77  49.24   18.60     Op-1\n",
       "4    104.26  47.90   19.46     Op-1\n",
       "..      ...    ...     ...      ...\n",
       "495  101.24  49.03   20.96    Op-20\n",
       "496   98.37  52.12   19.68    Op-20\n",
       "497   96.49  48.78   19.19    Op-20\n",
       "498   94.16  48.39   21.60    Op-20\n",
       "499  102.35  51.24   21.47    Op-20\n",
       "\n",
       "[500 rows x 4 columns]"
      ]
     },
     "execution_count": 80,
     "metadata": {},
     "output_type": "execute_result"
    }
   ],
   "source": [
    "#GOAL \n",
    "#To describe each operators performance and accuracy of manufacturing parts\n",
    "\n",
    "df = pd.read_csv('Piece_Dimension.csv').drop(['Item_No'], axis=1)\n",
    "df\n"
   ]
  },
  {
   "cell_type": "code",
   "execution_count": 81,
   "metadata": {},
   "outputs": [
    {
     "data": {
      "text/html": [
       "<div>\n",
       "<style scoped>\n",
       "    .dataframe tbody tr th:only-of-type {\n",
       "        vertical-align: middle;\n",
       "    }\n",
       "\n",
       "    .dataframe tbody tr th {\n",
       "        vertical-align: top;\n",
       "    }\n",
       "\n",
       "    .dataframe thead th {\n",
       "        text-align: right;\n",
       "    }\n",
       "</style>\n",
       "<table border=\"1\" class=\"dataframe\">\n",
       "  <thead>\n",
       "    <tr style=\"text-align: right;\">\n",
       "      <th></th>\n",
       "      <th>Length</th>\n",
       "      <th>Width</th>\n",
       "      <th>Height</th>\n",
       "    </tr>\n",
       "  </thead>\n",
       "  <tbody>\n",
       "    <tr>\n",
       "      <th>count</th>\n",
       "      <td>500.000000</td>\n",
       "      <td>500.00000</td>\n",
       "      <td>500.000000</td>\n",
       "    </tr>\n",
       "    <tr>\n",
       "      <th>mean</th>\n",
       "      <td>99.769140</td>\n",
       "      <td>49.93288</td>\n",
       "      <td>20.293220</td>\n",
       "    </tr>\n",
       "    <tr>\n",
       "      <th>std</th>\n",
       "      <td>4.107471</td>\n",
       "      <td>2.11382</td>\n",
       "      <td>1.051718</td>\n",
       "    </tr>\n",
       "    <tr>\n",
       "      <th>min</th>\n",
       "      <td>87.520000</td>\n",
       "      <td>42.74000</td>\n",
       "      <td>17.370000</td>\n",
       "    </tr>\n",
       "    <tr>\n",
       "      <th>25%</th>\n",
       "      <td>96.835000</td>\n",
       "      <td>48.34000</td>\n",
       "      <td>19.475000</td>\n",
       "    </tr>\n",
       "    <tr>\n",
       "      <th>50%</th>\n",
       "      <td>99.565000</td>\n",
       "      <td>49.82500</td>\n",
       "      <td>20.310000</td>\n",
       "    </tr>\n",
       "    <tr>\n",
       "      <th>75%</th>\n",
       "      <td>102.035000</td>\n",
       "      <td>51.46250</td>\n",
       "      <td>21.142500</td>\n",
       "    </tr>\n",
       "    <tr>\n",
       "      <th>max</th>\n",
       "      <td>116.600000</td>\n",
       "      <td>58.26000</td>\n",
       "      <td>23.390000</td>\n",
       "    </tr>\n",
       "  </tbody>\n",
       "</table>\n",
       "</div>"
      ],
      "text/plain": [
       "           Length      Width      Height\n",
       "count  500.000000  500.00000  500.000000\n",
       "mean    99.769140   49.93288   20.293220\n",
       "std      4.107471    2.11382    1.051718\n",
       "min     87.520000   42.74000   17.370000\n",
       "25%     96.835000   48.34000   19.475000\n",
       "50%     99.565000   49.82500   20.310000\n",
       "75%    102.035000   51.46250   21.142500\n",
       "max    116.600000   58.26000   23.390000"
      ]
     },
     "execution_count": 81,
     "metadata": {},
     "output_type": "execute_result"
    }
   ],
   "source": [
    "df.describe()"
   ]
  },
  {
   "cell_type": "code",
   "execution_count": 82,
   "metadata": {},
   "outputs": [
    {
     "data": {
      "text/plain": [
       "Operator\n",
       "Op-9     35\n",
       "Op-14    35\n",
       "Op-7     33\n",
       "Op-5     33\n",
       "Op-10    30\n",
       "Op-18    29\n",
       "Op-3     29\n",
       "Op-1     26\n",
       "Op-16    25\n",
       "Op-2     25\n",
       "Op-17    23\n",
       "Op-20    21\n",
       "Op-13    21\n",
       "Op-4     21\n",
       "Op-19    21\n",
       "Op-12    20\n",
       "Op-8     20\n",
       "Op-15    19\n",
       "Op-6     18\n",
       "Op-11    16\n",
       "Name: count, dtype: int64"
      ]
     },
     "execution_count": 82,
     "metadata": {},
     "output_type": "execute_result"
    }
   ],
   "source": [
    "op_num = df.value_counts('Operator')\n",
    "op_num"
   ]
  },
  {
   "cell_type": "code",
   "execution_count": 83,
   "metadata": {},
   "outputs": [
    {
     "data": {
      "text/plain": [
       "<AxesSubplot: xlabel='Operator', ylabel='count'>"
      ]
     },
     "execution_count": 83,
     "metadata": {},
     "output_type": "execute_result"
    },
    {
     "data": {
      "image/png": "[encoded data removed]",
      "text/plain": [
       "<Figure size 1200x400 with 1 Axes>"
      ]
     },
     "metadata": {},
     "output_type": "display_data"
    }
   ],
   "source": [
    "plt.figure(figsize=(12,4))\n",
    "sns.set_theme(style=\"whitegrid\")\n",
    "# sns.countplot(data=df, x='Operator', order=df['Operator'].value_counts().index) Descending Order\n",
    "sns.countplot(data=df, x='Operator', order=df['Operator'].value_counts().index[::-1])"
   ]
  },
  {
   "cell_type": "code",
   "execution_count": 84,
   "metadata": {},
   "outputs": [
    {
     "data": {
      "image/png": "[encoded data removed]",
      "text/plain": [
       "<Figure size 1200x400 with 3 Axes>"
      ]
     },
     "metadata": {},
     "output_type": "display_data"
    }
   ],
   "source": [
    "sns.set_theme(style=\"whitegrid\")\n",
    "\n",
    "fig, axes = plt.subplots(nrows=1, ncols=3, figsize=(12,4))\n",
    "\n",
    "sns.histplot(data=df, x=df['Length'], kde=True, ax=axes[0])\n",
    "sns.histplot(data=df, x=df['Width'], kde=True, ax=axes[1])\n",
    "sns.histplot(data=df, x=df['Height'], kde=True, ax=axes[2])\n",
    "\n",
    "fig.tight_layout()\n",
    "\n",
    "# From the chart it can be concluded that the target measurements are 100, 50, 20 for L, W, H\n",
    "# Next is to figure which operators are the most innacurate\n",
    "# Need to determine what is considered innacurate "
   ]
  },
  {
   "cell_type": "code",
   "execution_count": 47,
   "metadata": {},
   "outputs": [
    {
     "data": {
      "text/html": [
       "<div>\n",
       "<style scoped>\n",
       "    .dataframe tbody tr th:only-of-type {\n",
       "        vertical-align: middle;\n",
       "    }\n",
       "\n",
       "    .dataframe tbody tr th {\n",
       "        vertical-align: top;\n",
       "    }\n",
       "\n",
       "    .dataframe thead th {\n",
       "        text-align: right;\n",
       "    }\n",
       "</style>\n",
       "<table border=\"1\" class=\"dataframe\">\n",
       "  <thead>\n",
       "    <tr style=\"text-align: right;\">\n",
       "      <th></th>\n",
       "      <th>Length</th>\n",
       "      <th>Width</th>\n",
       "      <th>Height</th>\n",
       "    </tr>\n",
       "    <tr>\n",
       "      <th>Operator</th>\n",
       "      <th></th>\n",
       "      <th></th>\n",
       "      <th></th>\n",
       "    </tr>\n",
       "  </thead>\n",
       "  <tbody>\n",
       "    <tr>\n",
       "      <th>Op-1</th>\n",
       "      <td>5.080231</td>\n",
       "      <td>2.910173</td>\n",
       "      <td>0.840233</td>\n",
       "    </tr>\n",
       "    <tr>\n",
       "      <th>Op-10</th>\n",
       "      <td>2.827704</td>\n",
       "      <td>1.891860</td>\n",
       "      <td>0.969951</td>\n",
       "    </tr>\n",
       "    <tr>\n",
       "      <th>Op-11</th>\n",
       "      <td>2.794258</td>\n",
       "      <td>1.738051</td>\n",
       "      <td>0.889455</td>\n",
       "    </tr>\n",
       "    <tr>\n",
       "      <th>Op-12</th>\n",
       "      <td>3.259311</td>\n",
       "      <td>1.717653</td>\n",
       "      <td>1.104962</td>\n",
       "    </tr>\n",
       "    <tr>\n",
       "      <th>Op-13</th>\n",
       "      <td>3.084170</td>\n",
       "      <td>2.013510</td>\n",
       "      <td>1.068644</td>\n",
       "    </tr>\n",
       "    <tr>\n",
       "      <th>Op-14</th>\n",
       "      <td>2.801667</td>\n",
       "      <td>1.709843</td>\n",
       "      <td>1.001338</td>\n",
       "    </tr>\n",
       "    <tr>\n",
       "      <th>Op-15</th>\n",
       "      <td>2.855446</td>\n",
       "      <td>1.774941</td>\n",
       "      <td>1.160737</td>\n",
       "    </tr>\n",
       "    <tr>\n",
       "      <th>Op-16</th>\n",
       "      <td>2.524761</td>\n",
       "      <td>1.662821</td>\n",
       "      <td>0.891185</td>\n",
       "    </tr>\n",
       "    <tr>\n",
       "      <th>Op-17</th>\n",
       "      <td>2.872636</td>\n",
       "      <td>1.828884</td>\n",
       "      <td>1.095622</td>\n",
       "    </tr>\n",
       "    <tr>\n",
       "      <th>Op-18</th>\n",
       "      <td>2.612910</td>\n",
       "      <td>1.595905</td>\n",
       "      <td>1.089165</td>\n",
       "    </tr>\n",
       "    <tr>\n",
       "      <th>Op-19</th>\n",
       "      <td>2.523974</td>\n",
       "      <td>1.630782</td>\n",
       "      <td>1.076256</td>\n",
       "    </tr>\n",
       "    <tr>\n",
       "      <th>Op-2</th>\n",
       "      <td>5.039453</td>\n",
       "      <td>2.275523</td>\n",
       "      <td>1.294951</td>\n",
       "    </tr>\n",
       "    <tr>\n",
       "      <th>Op-20</th>\n",
       "      <td>2.603408</td>\n",
       "      <td>1.524724</td>\n",
       "      <td>0.903794</td>\n",
       "    </tr>\n",
       "    <tr>\n",
       "      <th>Op-3</th>\n",
       "      <td>5.001126</td>\n",
       "      <td>2.991485</td>\n",
       "      <td>0.819556</td>\n",
       "    </tr>\n",
       "    <tr>\n",
       "      <th>Op-4</th>\n",
       "      <td>5.493390</td>\n",
       "      <td>2.474568</td>\n",
       "      <td>0.962334</td>\n",
       "    </tr>\n",
       "    <tr>\n",
       "      <th>Op-5</th>\n",
       "      <td>6.000157</td>\n",
       "      <td>2.514433</td>\n",
       "      <td>1.048509</td>\n",
       "    </tr>\n",
       "    <tr>\n",
       "      <th>Op-6</th>\n",
       "      <td>0.660474</td>\n",
       "      <td>0.729561</td>\n",
       "      <td>0.304094</td>\n",
       "    </tr>\n",
       "    <tr>\n",
       "      <th>Op-7</th>\n",
       "      <td>2.651061</td>\n",
       "      <td>1.899525</td>\n",
       "      <td>1.045580</td>\n",
       "    </tr>\n",
       "    <tr>\n",
       "      <th>Op-8</th>\n",
       "      <td>2.208169</td>\n",
       "      <td>1.560708</td>\n",
       "      <td>1.154477</td>\n",
       "    </tr>\n",
       "    <tr>\n",
       "      <th>Op-9</th>\n",
       "      <td>2.789362</td>\n",
       "      <td>1.878864</td>\n",
       "      <td>1.046103</td>\n",
       "    </tr>\n",
       "  </tbody>\n",
       "</table>\n",
       "</div>"
      ],
      "text/plain": [
       "            Length     Width    Height\n",
       "Operator                              \n",
       "Op-1      5.080231  2.910173  0.840233\n",
       "Op-10     2.827704  1.891860  0.969951\n",
       "Op-11     2.794258  1.738051  0.889455\n",
       "Op-12     3.259311  1.717653  1.104962\n",
       "Op-13     3.084170  2.013510  1.068644\n",
       "Op-14     2.801667  1.709843  1.001338\n",
       "Op-15     2.855446  1.774941  1.160737\n",
       "Op-16     2.524761  1.662821  0.891185\n",
       "Op-17     2.872636  1.828884  1.095622\n",
       "Op-18     2.612910  1.595905  1.089165\n",
       "Op-19     2.523974  1.630782  1.076256\n",
       "Op-2      5.039453  2.275523  1.294951\n",
       "Op-20     2.603408  1.524724  0.903794\n",
       "Op-3      5.001126  2.991485  0.819556\n",
       "Op-4      5.493390  2.474568  0.962334\n",
       "Op-5      6.000157  2.514433  1.048509\n",
       "Op-6      0.660474  0.729561  0.304094\n",
       "Op-7      2.651061  1.899525  1.045580\n",
       "Op-8      2.208169  1.560708  1.154477\n",
       "Op-9      2.789362  1.878864  1.046103"
      ]
     },
     "execution_count": 47,
     "metadata": {},
     "output_type": "execute_result"
    }
   ],
   "source": [
    "# Determine what is considered accurate by seeing the operators standard deviation\n",
    "# in this df, each operator has multiple different measurements so STD can be calculated\n",
    "# determine what is considered accurate in regards to 25% of the standard deviation \n",
    "\n",
    "accuracy = df.groupby(['Operator']).agg(np.std)\n",
    "accuracy"
   ]
  },
  {
   "cell_type": "code",
   "execution_count": 86,
   "metadata": {},
   "outputs": [
    {
     "name": "stdout",
     "output_type": "stream",
     "text": [
      "Length\n",
      "mean                                               99.76914\n",
      "iqr                                                     5.2\n",
      "cilo                                              99.199895\n",
      "cihi                                              99.930105\n",
      "whishi                                               109.79\n",
      "whislo                                                89.82\n",
      "fliers    [87.52, 88.28, 110.54, 110.18, 110.72, 112.69,...\n",
      "q1                                                   96.835\n",
      "med                                                  99.565\n",
      "q3                                                  102.035\n",
      "dtype: object\n",
      "\n",
      "\n",
      "Width\n",
      "mean                          49.93288\n",
      "iqr                             3.1225\n",
      "cilo                         49.605761\n",
      "cihi                         50.044239\n",
      "whishi                           56.04\n",
      "whislo                            43.8\n",
      "fliers    [42.74, 57.26, 58.26, 56.26]\n",
      "q1                               48.34\n",
      "med                             49.825\n",
      "q3                             51.4625\n",
      "dtype: object\n",
      "\n",
      "\n",
      "Height\n",
      "mean       20.29322\n",
      "iqr          1.6675\n",
      "cilo      20.192921\n",
      "cihi      20.427079\n",
      "whishi        23.39\n",
      "whislo        17.37\n",
      "fliers           []\n",
      "q1           19.475\n",
      "med           20.31\n",
      "q3          21.1425\n",
      "dtype: object\n",
      "\n",
      "\n"
     ]
    }
   ],
   "source": [
    "feat = ['Length','Width','Height']\n",
    "for col in feat:\n",
    "    print(col)\n",
    "    print(pd.Series(boxplot_stats(df[col])[0]))\n",
    "    print('\\n')\n",
    "\n",
    "    "
   ]
  },
  {
   "cell_type": "code",
   "execution_count": 105,
   "metadata": {},
   "outputs": [
    {
     "data": {
      "text/plain": [
       "Operator\n",
       "Op-3    8\n",
       "Op-5    8\n",
       "Op-4    3\n",
       "Op-2    1\n",
       "Name: count, dtype: int64"
      ]
     },
     "execution_count": 105,
     "metadata": {},
     "output_type": "execute_result"
    }
   ],
   "source": [
    "def get_status(row):\n",
    "    \n",
    "    # when applying the function get_status(), it is called each row at a time\n",
    "    # row is a pd.Series\n",
    "    #print('row: ', row, '\\n') <- try if you want to see what gets passed to the function\n",
    "    for col in feat:\n",
    "        # in each row you have to check 3 values (3 columns)\n",
    "        # if this if condition is True only once, the function returns 'Defective'\n",
    "        if (\n",
    "            (row[col] > boxplot_stats(df[col])[0]['whishi']) \n",
    "            or \n",
    "            (row[col] < boxplot_stats(df[col])[0]['whislo'])\n",
    "        ):\n",
    "            \n",
    "            return 'Defective'\n",
    "        \n",
    "    # if it didn't return anything till here (-> 3x condition was False) it will return `Perfect\n",
    "    return 'Perfect'\n",
    "\n",
    "\n",
    "df['Status'] = df.apply(get_status,axis=1)\n",
    "\n",
    " # For instance, to return the Defective rows, you can use a single measure: \n",
    "#df[df['Length'] < boxplot_stats(df['Length'])[0]['whislo']]\n",
    "    # Or any Defective rows:\n",
    "defective = df[df['Status']=='Defective']\n",
    "\n",
    "defective.value_counts('Operator')"
   ]
  },
  {
   "cell_type": "code",
   "execution_count": 108,
   "metadata": {},
   "outputs": [
    {
     "data": {
      "text/plain": [
       "Status\n",
       "Perfect      480\n",
       "Defective     20\n",
       "Name: count, dtype: int64"
      ]
     },
     "execution_count": 108,
     "metadata": {},
     "output_type": "execute_result"
    }
   ],
   "source": [
    "df['Status'].value_counts() "
   ]
  },
  {
   "cell_type": "code",
   "execution_count": 107,
   "metadata": {},
   "outputs": [
    {
     "data": {
      "text/plain": [
       "<AxesSubplot: xlabel='Operator', ylabel='count'>"
      ]
     },
     "execution_count": 107,
     "metadata": {},
     "output_type": "execute_result"
    },
    {
     "data": {
      "image/png": "[encoded data removed]",
      "text/plain": [
       "<Figure size 1200x400 with 1 Axes>"
      ]
     },
     "metadata": {},
     "output_type": "display_data"
    }
   ],
   "source": [
    "#suggest \n",
    "\n",
    "plt.figure(figsize=(12,4))\n",
    "sns.set_theme(style=\"whitegrid\")\n",
    "# sns.countplot(data=df, x='Operator', order=df['Operator'].value_counts().index) Descending Order\n",
    "sns.countplot(data=defective, x='Operator', order=defective['Operator'].value_counts().index[::-1])"
   ]
  },
  {
   "cell_type": "code",
   "execution_count": 110,
   "metadata": {},
   "outputs": [
    {
     "data": {
      "text/plain": [
       "Operator\n",
       "Op-2    0.040000\n",
       "Op-3    0.275862\n",
       "Op-4    0.142857\n",
       "Op-5    0.242424\n",
       "Name: count, dtype: float64"
      ]
     },
     "execution_count": 110,
     "metadata": {},
     "output_type": "execute_result"
    }
   ],
   "source": [
    "#Determines what percentage of parts the operator makes are defective\n",
    "defective_op = df[df['Status'] == 'Defective']['Operator'].unique()\n",
    "defective_parts = df[df['Status'] == 'Defective']['Operator'].value_counts()\n",
    "defective_total = df['Operator'].value_counts()\n",
    "defective_comparision = (defective_parts/defective_total)[defective_op]\n",
    "defective_comparision"
   ]
  },
  {
   "cell_type": "code",
   "execution_count": 113,
   "metadata": {},
   "outputs": [
    {
     "data": {
      "text/plain": [
       "<AxesSubplot: ylabel='count'>"
      ]
     },
     "execution_count": 113,
     "metadata": {},
     "output_type": "execute_result"
    },
    {
     "data": {
      "image/png": "[encoded data removed]",
      "text/plain": [
       "<Figure size 640x480 with 1 Axes>"
      ]
     },
     "metadata": {},
     "output_type": "display_data"
    }
   ],
   "source": [
    "sns.barplot(x=defective_op, y=defective_comparision)"
   ]
  }
 ],
 "metadata": {
  "kernelspec": {
   "display_name": "Python 3",
   "language": "python",
   "name": "python3"
  },
  "language_info": {
   "codemirror_mode": {
    "name": "ipython",
    "version": 3
   },
   "file_extension": ".py",
   "mimetype": "text/x-python",
   "name": "python",
   "nbconvert_exporter": "python",
   "pygments_lexer": "ipython3",
   "version": "3.10.7"
  },
  "orig_nbformat": 4
 },
 "nbformat": 4,
 "nbformat_minor": 2
}
